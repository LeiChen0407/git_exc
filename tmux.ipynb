{
 "cells": [
  {
   "cell_type": "markdown",
   "id": "1e0842ed",
   "metadata": {},
   "source": [
    "## tumx reference\n",
    "\n",
    "1.左右分屏:Ctrl+b 然后%\n",
    "\n",
    "2.上下分屏:Ctrl+b 然后\"\n",
    "\n",
    "3.切换窗口:Ctrl+b 然后<方向键>\n",
    "\n",
    "4.关闭当前窗口:Ctrl+b 然后x\n"
   ]
  },
  {
   "cell_type": "markdown",
   "id": "415b908b",
   "metadata": {},
   "source": [
    "## juyptelab reference\n",
    "\n",
    "1.在jupyterlab中添加其他环境的内核：\n",
    "- pip insatll ipykernel\n",
    "- python -m ipykernel install --user --name 需要添加的虚拟环境名称 --display-name \"在jupytelab中显示的名称\"\n",
    "- python -m ipykernel install --user --name llm --display-name \"llm\"\n"
   ]
  }
 ],
 "metadata": {
  "language_info": {
   "name": "python"
  }
 },
 "nbformat": 4,
 "nbformat_minor": 5
}
