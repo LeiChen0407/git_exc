{
 "cells": [
  {
   "cell_type": "markdown",
   "id": "cd061a88",
   "metadata": {},
   "source": [
    "git初始化:\n",
    "- git init\n",
    "- 效果:生成.git文件，用于记录整个过程的操作记录\n",
    "\n",
    "git将工作区文件添加到缓冲区:\n",
    "- git add name\n",
    "- git commit -m \"discrb\"\n"
    "1"
   ]
  }
 ],
 "metadata": {
  "kernelspec": {
   "display_name": "Python 3",
   "language": "python",
   "name": "python3"
  },
  "language_info": {
   "codemirror_mode": {
    "name": "ipython",
    "version": 3
   },
   "file_extension": ".py",
   "mimetype": "text/x-python",
   "name": "python",
   "nbconvert_exporter": "python",
   "pygments_lexer": "ipython3",
   "version": "3.8.20"
  }
 },
 "nbformat": 4,
 "nbformat_minor": 5
}
