{
 "cells": [
  {
   "cell_type": "markdown",
   "id": "cd061a88",
   "metadata": {},
   "source": [
    "git初始化:\n",
    "- git init\n",
    "- 效果:生成.git文件，用于记录整个过程的操作记录\n",
    "\n",
    "git将工作区文件添加到缓冲区:\n",
    "- git add name\n",
    "- git commit -m \"discrb\"\n",
    "- git commit -m \"version*\",\n",
    "\n",
    "git查看日记:\n",
    "- git log \n",
    "- 简要查看:git log --pretty=oneline\n",
    "- git reflog:可以查看到版本的commit表示\n",
    "- git log --graph:可以查看当分支的变化\n",
    "\n",
    "git查看两个版本的差异:\n",
    "- git diff HEAD -- 文件名 :对比当前工作区的该文件跟HEAD版本的该文件有什么不同\n",
    "    - \\-代表HEAD版本的文件内容，\\+代表当前工作区的文件内容\n",
    "- git diff HEAD HEAD^ --文件名 :对比HEAD版本的文件跟HEAD^的文件区别\n",
    "    - \\-代表HEAD版本的文件内容，\\+代表HEAD^的文件内容\n",
    "\n",
    "git撤销修改：\n",
    "- 撤销工作区的修改:git checkout -- file_name\n",
    "- 撤销缓冲区的修改\n",
    "    - 1.首先取消缓存:git reset HEAD file_name\n",
    "    - 2.然后取消工作区修改:git checkout -- file_name\n",
    "- 撤销版本的修改：版本回退\n",
    "  \n",
    "git回退版本\n",
    "- git reset --hard HEAD^\n",
    "    - HEAD表示指向的当前的最新版本\n",
    "    - HEAD^表示当前版本的前一个版本，HEAD^^表示前两个版本，HEAD~*,表示当前版本的前\\*个版本\n",
    "- git reset --hard \"指定版本的commit标识\",即可回到指定的版本,可以不用使用全部，仅使用前面部分也可也\n",
    "![](./1748418729422.jpg)"
   ]
  }
 ],
 "metadata": {
  "kernelspec": {
   "display_name": "Python 3",
   "language": "python",
   "name": "python3"
  },
  "language_info": {
   "codemirror_mode": {
    "name": "ipython",
    "version": 3
   },
   "file_extension": ".py",
   "mimetype": "text/x-python",
   "name": "python",
   "nbconvert_exporter": "python",
   "pygments_lexer": "ipython3",
   "version": "3.8.20"
  }
 },
 "nbformat": 4,
 "nbformat_minor": 5
}
