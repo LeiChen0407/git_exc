{
 "cells": [
  {
   "cell_type": "markdown",
   "id": "1e0842ed",
   "metadata": {},
   "source": [
    "## tumx reference\n",
    "\n",
    "1.左右分屏:Ctrl+b 然后%\n",
    "2.上下分屏:Ctrl+b 然后\"\n",
    "3.切换窗口:Ctrl+b 然后<方向键>\n",
    "4.关闭当前窗口:Ctrl+b 然后x"
   ]
  }
 ],
 "metadata": {
  "language_info": {
   "name": "python"
  }
 },
 "nbformat": 4,
 "nbformat_minor": 5
}
